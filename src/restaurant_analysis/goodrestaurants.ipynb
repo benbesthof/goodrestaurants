{
 "cells": [
  {
   "cell_type": "markdown",
   "metadata": {},
   "source": [
    "בס\"ד\n",
    "\n",
    "ב\"ה\n"
   ]
  },
  {
   "cell_type": "markdown",
   "metadata": {},
   "source": [
    "# Kitchen Dreams "
   ]
  },
  {
   "cell_type": "markdown",
   "metadata": {},
   "source": [
    "This is our official notebook for submission "
   ]
  },
  {
   "cell_type": "markdown",
   "metadata": {},
   "source": [
    "Data is limited to the 5 boroughs of New York City because of the complexity of the borders between Queens and Long Island and between The Bronx and Westchester"
   ]
  },
  {
   "cell_type": "code",
   "execution_count": 1,
   "metadata": {},
   "outputs": [],
   "source": [
    "\n",
    "from src.restaurant_analysis.rest_analysis import Scrape\n",
    "a = Scrape('https://www.census.gov/quickfacts/fact/table/richmondcountynewyork,bronxcountynewyork,queenscountynewyork,kingscountynewyork,newyorkcountynewyork/RHI825222#RHI825222')\n",
    "b = Scrape('https://www.census.gov/quickfacts/fact/table/richmondcountynewyork,bronxcountynewyork,queenscountynewyork,kingscountynewyork,newyorkcountynewyork/INC110222#INC110222')"
   ]
  },
  {
   "cell_type": "code",
   "execution_count": 5,
   "metadata": {},
   "outputs": [
    {
     "data": {
      "text/html": [
       "<div>\n",
       "<style scoped>\n",
       "    .dataframe tbody tr th:only-of-type {\n",
       "        vertical-align: middle;\n",
       "    }\n",
       "\n",
       "    .dataframe tbody tr th {\n",
       "        vertical-align: top;\n",
       "    }\n",
       "\n",
       "    .dataframe thead th {\n",
       "        text-align: right;\n",
       "    }\n",
       "</style>\n",
       "<table border=\"1\" class=\"dataframe\">\n",
       "  <thead>\n",
       "    <tr style=\"text-align: right;\">\n",
       "      <th></th>\n",
       "      <th>All Topics Population Age and Sex Race and Hispanic Origin Population Characteristics Housing Families &amp; Living Arrangements Computer and Internet Use Education Health Economy Transportation Income &amp; Poverty Businesses Geography</th>\n",
       "      <th>Richmond County, New York</th>\n",
       "      <th>Bronx County, New York</th>\n",
       "      <th>Queens County, New York</th>\n",
       "      <th>Kings County, New York</th>\n",
       "      <th>New York County, New York</th>\n",
       "    </tr>\n",
       "  </thead>\n",
       "  <tbody>\n",
       "    <tr>\n",
       "      <th>0</th>\n",
       "      <td>White alone, not Hispanic or Latino, percent</td>\n",
       "      <td> 56.6%</td>\n",
       "      <td> 8.7%</td>\n",
       "      <td> 23.9%</td>\n",
       "      <td> 36.7%</td>\n",
       "      <td> 45.5%</td>\n",
       "    </tr>\n",
       "  </tbody>\n",
       "</table>\n",
       "</div>"
      ],
      "text/plain": [
       "  All Topics Population Age and Sex Race and Hispanic Origin Population Characteristics Housing Families & Living Arrangements Computer and Internet Use Education Health Economy Transportation Income & Poverty Businesses Geography  \\\n",
       "0       White alone, not Hispanic or Latino, percent                                                                                                                                                                                     \n",
       "\n",
       "  Richmond County, New York Bronx County, New York Queens County, New York  \\\n",
       "0                   56.6%                 8.7%                 23.9%   \n",
       "\n",
       "  Kings County, New York New York County, New York  \n",
       "0                36.7%                   45.5%  "
      ]
     },
     "execution_count": 5,
     "metadata": {},
     "output_type": "execute_result"
    }
   ],
   "source": [
    "race = a.reader()\n",
    "median_income = b.reader()\n",
    "race[0]\n"
   ]
  },
  {
   "cell_type": "code",
   "execution_count": 48,
   "metadata": {},
   "outputs": [
    {
     "data": {
      "text/html": [
       "<div>\n",
       "<style scoped>\n",
       "    .dataframe tbody tr th:only-of-type {\n",
       "        vertical-align: middle;\n",
       "    }\n",
       "\n",
       "    .dataframe tbody tr th {\n",
       "        vertical-align: top;\n",
       "    }\n",
       "\n",
       "    .dataframe thead th {\n",
       "        text-align: right;\n",
       "    }\n",
       "</style>\n",
       "<table border=\"1\" class=\"dataframe\">\n",
       "  <thead>\n",
       "    <tr style=\"text-align: right;\">\n",
       "      <th></th>\n",
       "      <th>name</th>\n",
       "      <th>rating</th>\n",
       "      <th>price</th>\n",
       "      <th>zip_code</th>\n",
       "      <th>categories</th>\n",
       "      <th>cuisine</th>\n",
       "      <th>borough</th>\n",
       "    </tr>\n",
       "  </thead>\n",
       "  <tbody>\n",
       "    <tr>\n",
       "      <th>0</th>\n",
       "      <td>Piccoli Trattoria</td>\n",
       "      <td>4.5</td>\n",
       "      <td>$$</td>\n",
       "      <td>11215</td>\n",
       "      <td>Italian, Pasta Shops, Wine Bars</td>\n",
       "      <td>Italian</td>\n",
       "      <td>Brooklyn, NY</td>\n",
       "    </tr>\n",
       "    <tr>\n",
       "      <th>1</th>\n",
       "      <td>Osteria Brooklyn</td>\n",
       "      <td>4.5</td>\n",
       "      <td>$$$</td>\n",
       "      <td>11205</td>\n",
       "      <td>Italian</td>\n",
       "      <td>Italian</td>\n",
       "      <td>Brooklyn, NY</td>\n",
       "    </tr>\n",
       "    <tr>\n",
       "      <th>2</th>\n",
       "      <td>Barbalu - Brooklyn</td>\n",
       "      <td>4.5</td>\n",
       "      <td>Not Available</td>\n",
       "      <td>11201</td>\n",
       "      <td>Italian, Pizza, Bars</td>\n",
       "      <td>Italian</td>\n",
       "      <td>Brooklyn, NY</td>\n",
       "    </tr>\n",
       "    <tr>\n",
       "      <th>3</th>\n",
       "      <td>Cent'Anni</td>\n",
       "      <td>4.0</td>\n",
       "      <td>$$</td>\n",
       "      <td>11238</td>\n",
       "      <td>Italian</td>\n",
       "      <td>Italian</td>\n",
       "      <td>Brooklyn, NY</td>\n",
       "    </tr>\n",
       "    <tr>\n",
       "      <th>4</th>\n",
       "      <td>Ammazzacaffè</td>\n",
       "      <td>4.5</td>\n",
       "      <td>$$</td>\n",
       "      <td>11211</td>\n",
       "      <td>Cocktail Bars, Italian, Wine Bars</td>\n",
       "      <td>Italian</td>\n",
       "      <td>Brooklyn, NY</td>\n",
       "    </tr>\n",
       "  </tbody>\n",
       "</table>\n",
       "</div>"
      ],
      "text/plain": [
       "                 name  rating          price  zip_code  \\\n",
       "0   Piccoli Trattoria     4.5             $$     11215   \n",
       "1    Osteria Brooklyn     4.5            $$$     11205   \n",
       "2  Barbalu - Brooklyn     4.5  Not Available     11201   \n",
       "3           Cent'Anni     4.0             $$     11238   \n",
       "4        Ammazzacaffè     4.5             $$     11211   \n",
       "\n",
       "                          categories  cuisine       borough  \n",
       "0    Italian, Pasta Shops, Wine Bars  Italian  Brooklyn, NY  \n",
       "1                            Italian  Italian  Brooklyn, NY  \n",
       "2               Italian, Pizza, Bars  Italian  Brooklyn, NY  \n",
       "3                            Italian  Italian  Brooklyn, NY  \n",
       "4  Cocktail Bars, Italian, Wine Bars  Italian  Brooklyn, NY  "
      ]
     },
     "execution_count": 48,
     "metadata": {},
     "output_type": "execute_result"
    }
   ],
   "source": [
    "import pandas as pd\n",
    "rests = pd.read_csv('restaurants_data.csv')\n",
    "rests.head()"
   ]
  },
  {
   "cell_type": "code",
   "execution_count": 49,
   "metadata": {},
   "outputs": [],
   "source": [
    "manhattan_zip_codes = ['10001', '10002', '10003', '10004', '10005',\n",
    "    '10006', '10007', '10009', '10010', '10011',\n",
    "    '10012', '10013', '10014', '10016', '10017',\n",
    "    '10018', '10019', '10020', '10021', '10022',\n",
    "    '10023', '10024', '10025', '10026', '10027',\n",
    "    '10028', '10029', '10030', '10031', '10032',\n",
    "    '10033', '10034', '10035', '10036', '10037',\n",
    "    '10038', '10039', '10040', '10128', '10280']\n",
    "\n",
    "brooklyn_zip_codes = ['11201', '11203', '11204', '11205', '11206',\n",
    "    '11207', '11208', '11209', '11210', '11211',\n",
    "    '11212', '11213', '11214', '11215', '11216',\n",
    "    '11217', '11218', '11219', '11220', '11221',\n",
    "    '11222', '11223', '11224', '11225', '11226',\n",
    "    '11228', '11229', '11230', '11231', '11232',\n",
    "    '11233', '11234', '11235', '11236', '11237',\n",
    "    '11238', '11239', '11249']\n",
    "\n",
    "queens_zip_codes = ['11001', '11004', '11101', '11102', '11103',\n",
    "    '11104', '11105', '11106', '11354', '11355',\n",
    "    '11356', '11357', '11358', '11359', '11360',\n",
    "    '11361', '11362', '11363', '11364', '11365',\n",
    "    '11366', '11367', '11368', '11369', '11370',\n",
    "    '11371', '11372', '11373', '11374', '11375',\n",
    "    '11377', '11378', '11379', '11385', '11411',\n",
    "    '11412', '11413', '11414', '11415', '11416',\n",
    "    '11417', '11418', '11419', '11420', '11421',\n",
    "    '11422', '11423', '11426', '11427', '11428',\n",
    "    '11429', '11430', '11432', '11433', '11434',\n",
    "    '11435', '11436', '11691', '11692', '11693',\n",
    "    '11694', '11697']\n",
    "\n",
    "staten_island_zip_codes = ['10301', '10302', '10303', '10304', '10305',\n",
    "    '10306', '10307', '10308', '10309', '10310',\n",
    "    '10311', '10312', '10314']\n",
    "\n",
    "bronx_zip_codes = ['10451', '10452', '10453', '10454', '10455',\n",
    "    '10456', '10457', '10458', '10459', '10460',\n",
    "    '10461', '10462', '10463', '10464', '10465',\n",
    "    '10466', '10467', '10468', '10469', '10470',\n",
    "    '10471', '10472', '10473', '10474', '10475']\n",
    "\n"
   ]
  },
  {
   "cell_type": "code",
   "execution_count": 50,
   "metadata": {},
   "outputs": [],
   "source": [
    "rests['where'] = rests.apply(lambda row: 'Manhattan' if str(row['zip_code']).strip() in manhattan_zip_codes\n",
    "                             else ('Brooklyn' if str(row['zip_code']).strip() in brooklyn_zip_codes\n",
    "                                   else ('Queens' if str(row['zip_code']).strip() in queens_zip_codes\n",
    "                                         else ('The Bronx' if str(row['zip_code']).strip() in bronx_zip_codes\n",
    "                                               else ('Staten Island' if str(row['zip_code']).strip() in staten_island_zip_codes\n",
    "                                                     else 'other')))), axis=1)"
   ]
  },
  {
   "cell_type": "code",
   "execution_count": 51,
   "metadata": {},
   "outputs": [
    {
     "data": {
      "text/plain": [
       "(116, 8)"
      ]
     },
     "execution_count": 51,
     "metadata": {},
     "output_type": "execute_result"
    }
   ],
   "source": [
    "rests[rests['where'] == 'other'].shape"
   ]
  },
  {
   "cell_type": "code",
   "execution_count": 54,
   "metadata": {},
   "outputs": [],
   "source": [
    "rests = rests[rests['price'] != 'Not Available'].reset_index(drop=True)"
   ]
  },
  {
   "cell_type": "code",
   "execution_count": 37,
   "metadata": {},
   "outputs": [
    {
     "data": {
      "text/html": [
       "<div>\n",
       "<style scoped>\n",
       "    .dataframe tbody tr th:only-of-type {\n",
       "        vertical-align: middle;\n",
       "    }\n",
       "\n",
       "    .dataframe tbody tr th {\n",
       "        vertical-align: top;\n",
       "    }\n",
       "\n",
       "    .dataframe thead th {\n",
       "        text-align: right;\n",
       "    }\n",
       "</style>\n",
       "<table border=\"1\" class=\"dataframe\">\n",
       "  <thead>\n",
       "    <tr style=\"text-align: right;\">\n",
       "      <th></th>\n",
       "      <th>name</th>\n",
       "      <th>rating</th>\n",
       "      <th>price</th>\n",
       "      <th>zip_code</th>\n",
       "      <th>categories</th>\n",
       "      <th>cuisine</th>\n",
       "      <th>borough</th>\n",
       "      <th>where</th>\n",
       "    </tr>\n",
       "  </thead>\n",
       "  <tbody>\n",
       "  </tbody>\n",
       "</table>\n",
       "</div>"
      ],
      "text/plain": [
       "Empty DataFrame\n",
       "Columns: [name, rating, price, zip_code, categories, cuisine, borough, where]\n",
       "Index: []"
      ]
     },
     "execution_count": 37,
     "metadata": {},
     "output_type": "execute_result"
    }
   ],
   "source": [
    "rests[rests['where'] == 'other']"
   ]
  },
  {
   "cell_type": "code",
   "execution_count": 55,
   "metadata": {},
   "outputs": [
    {
     "data": {
      "text/plain": [
       "(650, 8)"
      ]
     },
     "execution_count": 55,
     "metadata": {},
     "output_type": "execute_result"
    }
   ],
   "source": [
    "rests.shape"
   ]
  },
  {
   "cell_type": "code",
   "execution_count": 41,
   "metadata": {},
   "outputs": [],
   "source": [
    "rests.to_csv('new_rests_data.csv')"
   ]
  },
  {
   "cell_type": "code",
   "execution_count": null,
   "metadata": {},
   "outputs": [],
   "source": []
  }
 ],
 "metadata": {
  "kernelspec": {
   "display_name": "Python 3",
   "language": "python",
   "name": "python3"
  },
  "language_info": {
   "codemirror_mode": {
    "name": "ipython",
    "version": 3
   },
   "file_extension": ".py",
   "mimetype": "text/x-python",
   "name": "python",
   "nbconvert_exporter": "python",
   "pygments_lexer": "ipython3",
   "version": "3.10.13"
  }
 },
 "nbformat": 4,
 "nbformat_minor": 2
}
