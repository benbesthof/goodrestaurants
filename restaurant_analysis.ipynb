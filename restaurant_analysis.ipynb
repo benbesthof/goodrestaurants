{
 "cells": [
  {
   "cell_type": "markdown",
   "id": "5556facc-92b4-443b-b76b-6a11ce8e69e7",
   "metadata": {},
   "source": [
    "# Kitchen Dreams: An Examination of the Tri-State Area Cuisine in New York Using Census and Yelp Data. \n"
   ]
  },
  {
   "cell_type": "markdown",
   "id": "68a68426-61ac-4c8f-8ba2-ad55408d9120",
   "metadata": {},
   "source": [
    "![Rooftop Restaurant NYC](https://www.therooftopguide.com/rooftop-news/Bilder/rooftop-restaurant-nyc-230-1.jpg)"
   ]
  },
  {
   "cell_type": "markdown",
   "id": "4ce2d749-9971-48e8-af49-23131ca8380a",
   "metadata": {},
   "source": [
    "## Table of Contents\n",
    "1. [Abstract](#abstract)\n",
    "2. [Introduction](#introduction)\n",
    "3. [Research Approach](#research-approach)\n",
    "4. [Exploratory Data Analysis (EDA)](#eda)\n",
    "5. [Data Preparation](#data-preparation)\n",
    "6. [Prepped Data Review](#prepped-data-review)\n",
    "7. [Investigative Analysis & Results](#investigative-analysis-results)\n",
    "8. [Conclusions](#conclusions)\n"
   ]
  },
  {
   "cell_type": "markdown",
   "id": "bc482ab2-1222-4b4a-9401-f72e256b8163",
   "metadata": {},
   "source": [
    "## Abstract <a id=\"abstract\"></a>"
   ]
  },
  {
   "cell_type": "markdown",
   "id": "b96e0b69-d37a-4520-879e-3879edc066a9",
   "metadata": {},
   "source": [
    "This research investigates the complex interactions of economic, demographic, and culinary variables in the New York Tri-State region. We use Yelp data and Census information to unearth the stories behind the restaurants in the area because we are curious in how different cultures and economic levels affect dining preferences. Our study questions explore the following topics: how geography affects Yelp reviews; how economic status and restaurant kinds are correlated; how demographic considerations affect restaurant success; where are the best places for new businesses to open; and how popularity, pricing, and ratings relate to each other.\n",
    "\n",
    "Using the Yelp API for restaurant details and Census.gov for demographic and economic data, the process entails a thorough collection of data. Our group works together to do univariate, bivariate, and multivariate analyses using Python modules such as Beautiful Soup, Pandas, Matplotlib, and Seaborn. The goal of the investigative analysis is to discover economic elements influencing culinary preferences, provide recommendations for aspiring restaurateurs based on current trends, and shed light on the relationship between restaurant ratings and demographic composition.\n",
    "\n",
    "We put a high priority on data integrity throughout the project, carry out in-depth exploratory data analysis (EDA), and apply data preparation strategies. The results include a thorough examination of how socioeconomic variables influence food choices in the New York Tri-State region, a sophisticated grasp of the culinary environment, and practical advice for restaurant owners. This project exemplifies how to combine extensive data sources with Python's analytical powers to unravel the complexity of the regional food scene."
   ]
  },
  {
   "cell_type": "markdown",
   "id": "6e01c9ec-5582-4c9c-90b5-39eddae96699",
   "metadata": {},
   "source": [
    "## Introduction <a id=\"introduction\"></a>"
   ]
  },
  {
   "cell_type": "markdown",
   "id": "f3a928a2-2fe1-4060-90bb-cf54175d6395",
   "metadata": {},
   "source": [
    "This project explores the thriving culinary and eating scene in the Tri-State area of New York. It's about learning how the diverse range of cultures and economic circumstances in the area affects where and what we consume. We are going to learn the narratives behind the restaurants in the area by examining demographic data and Yelp ratings. Consider it an exploration of how the local food scene is shaped by the people and their backgrounds as you go across the areas of New York and New Jersey.\n",
    "\n",
    "1. **Geographical Impact on Yelp Ratings:**\n",
    "   - How does the specific location within the Tri-State area influence a restaurant's Yelp rating, especially concerning particular cuisines?\n",
    "  \n",
    "2. **Economic Status and Restaurant Types:**\n",
    "   - Is there a discernible correlation between the economic status of a neighborhood and the types of restaurants it hosts?\n",
    "\n",
    "3. **Demographic Influences on Restaurant Success:**\n",
    "   - To what extent do demographic factors, such as ethnic composition, contribute to the success of various restaurant types?\n",
    "\n",
    "4. **Optimal Locations for New Restaurants:**\n",
    "   - What are the current trends, and where are the optimal locations for opening new restaurants based on these trends?\n",
    "\n",
    "5. **Cuisine Pricing, Ratings, and Popularity:**\n",
    "   - How is the pricing of different cuisines related to their Yelp ratings and overall popularity in the Tri-State area?\n",
    "\n",
    "In exploring these questions, we aim to uncover the unique narratives behind the diverse restaurants that populate the Tri-State area, offering insights into how the local food scene is intricately woven into the fabric of its people and their backgrounds."
   ]
  },
  {
   "cell_type": "markdown",
   "id": "e0031880-e04a-40e9-be62-0fa96150361e",
   "metadata": {},
   "source": [
    "## Expected Results\n",
    "\n",
    "- Information on how restaurant ratings and demographic composition relate to one another.\n",
    "- Determining the economic variables affecting taste in food.\n",
    "- Suggestions for potential restaurateurs regarding the locations of new businesses.\n",
    "\n",
    "## Timetable\n",
    "\n",
    "**Week 1:** Gathering data and integrating APIs. \n",
    "\n",
    "**Week 2:** Cleaning data and conducting preliminary analysis.\n",
    "\n",
    "**Week 3:** Comprehensive data visualization and analysis.\n",
    "\n",
    "**Week 4:** Report assembly and delivery.\n",
    "\n",
    "## Importance & Inspiration for Research\n",
    "\n",
    "Restaurant owners, food fans, and culinary specialists will all gain from this study's insightful analysis of the sociodemographically driven gastronomic tastes of the New York Tri-State region."
   ]
  },
  {
   "cell_type": "markdown",
   "id": "12e4e70c-b6ac-4e4b-a9e9-badddb743031",
   "metadata": {},
   "source": [
    "## Research Approach <a id=\"research-approach\"></a>"
   ]
  },
  {
   "cell_type": "markdown",
   "id": "b3339482-0f8e-488d-88b5-6377887036ef",
   "metadata": {},
   "source": [
    "#### Data Collection:\n",
    "\n",
    "- **Yelp API:** To gather data on restaurant ratings, cuisine types, pricing, and customer reviews from the New York Tri-State area. [Yelp API Documentation](https://docs.developer.yelp.com/docs/fusion-intro)\n",
    "  - Restaurants will be of different cuisine categories, must have mixed ratings on Yelp, and a '$$' price tag.\n",
    "  \n",
    "- **Census.gov (CSV):** To obtain demographic and economic data for the same region, enabling a comprehensive analysis of how these factors relate to food preferences and restaurant success. [Census Data for New York Tri-State Area](https://www.census.gov/quickfacts/fact/table/bergencountynewjersey,richmondcountynewyork,bronxcountynewyork,queenscountynewyork,kingscountynewyork,newyorkcountynewyork/PST045222)\n",
    "\n",
    "  - **Data Cleaning File:**\n",
    "    - Created an Excel file for data cleaning, containing essential variables such as rating, price, zip_code, categories, cuisine, and borough. This file facilitated the initial stages of data preparation and ensured consistency across relevant attributes.\n"
   ]
  },
  {
   "cell_type": "markdown",
   "id": "4188e9b4-3d04-4141-965c-c49dac0b84f1",
   "metadata": {},
   "source": [
    "#### Approach to Data Management:\n",
    "\n",
    "- **Version Control:** Git version control was used to keep track of changes, facilitate productive collaboration, and preserve an unambiguous project history.\n",
    "- **Data Storage:** Organized directories to facilitate easy access and replication for both raw and processed data.\n",
    "- **Documentation:** Transparency and reproducibility are ensured by recording data sources, preparation steps, and analytic procedures in Markdown cells.\n",
    "- **Collaboration:** Promoted teamwork by utilizing technologies that made it easy to share and update analysis and code.\n",
    "\n",
    "#### Investigative Data Examination:\n",
    "- Used Python libraries (Pandas, Matplotlib, Seaborn) to conduct thorough EDA.\n",
    "- Looked for trends and connections in the distribution of restaurant ratings, cuisine categories, and pricesncy."
   ]
  },
  {
   "cell_type": "markdown",
   "id": "4380fa39-5ec6-4752-8594-6aaae3a7cb6f",
   "metadata": {},
   "source": [
    "## Exploratory Data Analysis (EDA) <a id=\"eda\"></a>"
   ]
  },
  {
   "cell_type": "code",
   "execution_count": null,
   "id": "c7c58cbc-a169-45bd-ab02-c9f9cfde9bdc",
   "metadata": {},
   "outputs": [],
   "source": []
  },
  {
   "cell_type": "code",
   "execution_count": null,
   "id": "583a7080-6dee-48b2-9aae-9b47245591d2",
   "metadata": {},
   "outputs": [],
   "source": []
  },
  {
   "cell_type": "code",
   "execution_count": null,
   "id": "143de4b2-f3c4-4594-aa9c-af45d3acca3c",
   "metadata": {},
   "outputs": [],
   "source": []
  },
  {
   "cell_type": "code",
   "execution_count": null,
   "id": "cb221d46-67c7-461d-a56a-8f9028214860",
   "metadata": {},
   "outputs": [],
   "source": []
  },
  {
   "cell_type": "markdown",
   "id": "56908178-19ec-449e-9ec9-4be763e267bd",
   "metadata": {},
   "source": [
    "## Data Preparation <a id=\"data-preparation\"></a>"
   ]
  },
  {
   "cell_type": "markdown",
   "id": "faa1bdd0-fa5b-48d9-a605-568ceb994b6a",
   "metadata": {},
   "source": [
    "#### Data Preparation:\n",
    "- Addressed data integrity and usability issues identified during EDA.\n",
    "- Employed Pandas for data cleaning, handling missing values, outliers, and ensuring consistency"
   ]
  },
  {
   "cell_type": "markdown",
   "id": "06f97ce5",
   "metadata": {},
   "source": [
    "### Getting Yelp Data from API"
   ]
  },
  {
   "cell_type": "code",
   "execution_count": 1,
   "id": "ce09d2a0-b945-486e-9fa1-b1096b66d9d9",
   "metadata": {},
   "outputs": [
    {
     "ename": "ModuleNotFoundError",
     "evalue": "No module named 'restaurant_analysis'",
     "output_type": "error",
     "traceback": [
      "\u001b[0;31m---------------------------------------------------------------------------\u001b[0m",
      "\u001b[0;31mModuleNotFoundError\u001b[0m                       Traceback (most recent call last)",
      "\u001b[1;32m/Users/mapalo/Documents/GitHub/goodrestaurants/restaurant_analysis.ipynb Cell 20\u001b[0m line \u001b[0;36m2\n\u001b[1;32m      <a href='vscode-notebook-cell:/Users/mapalo/Documents/GitHub/goodrestaurants/restaurant_analysis.ipynb#X25sZmlsZQ%3D%3D?line=0'>1</a>\u001b[0m \u001b[39m# Import the function from the yelpapi.py script\u001b[39;00m\n\u001b[0;32m----> <a href='vscode-notebook-cell:/Users/mapalo/Documents/GitHub/goodrestaurants/restaurant_analysis.ipynb#X25sZmlsZQ%3D%3D?line=1'>2</a>\u001b[0m \u001b[39mfrom\u001b[39;00m \u001b[39mrestaurant_analysis\u001b[39;00m\u001b[39m.\u001b[39;00m\u001b[39myelpapi\u001b[39;00m \u001b[39mimport\u001b[39;00m get_restaurant_data\n\u001b[1;32m      <a href='vscode-notebook-cell:/Users/mapalo/Documents/GitHub/goodrestaurants/restaurant_analysis.ipynb#X25sZmlsZQ%3D%3D?line=3'>4</a>\u001b[0m \u001b[39m# Define the list of locations and cuisines\u001b[39;00m\n\u001b[1;32m      <a href='vscode-notebook-cell:/Users/mapalo/Documents/GitHub/goodrestaurants/restaurant_analysis.ipynb#X25sZmlsZQ%3D%3D?line=4'>5</a>\u001b[0m locations \u001b[39m=\u001b[39m [\u001b[39m'\u001b[39m\u001b[39mBrooklyn, NY\u001b[39m\u001b[39m'\u001b[39m, \u001b[39m'\u001b[39m\u001b[39mQueens, NY\u001b[39m\u001b[39m'\u001b[39m, \u001b[39m'\u001b[39m\u001b[39mStaten Island, NY\u001b[39m\u001b[39m'\u001b[39m, \u001b[39m'\u001b[39m\u001b[39mThe Bronx, NY\u001b[39m\u001b[39m'\u001b[39m]\n",
      "\u001b[0;31mModuleNotFoundError\u001b[0m: No module named 'restaurant_analysis'"
     ]
    }
   ],
   "source": [
    "# Import the function from the yelpapi.py script\n",
    "from restaurant_analysis.yelpapi import get_restaurant_data\n",
    "\n",
    "# Define the list of locations and cuisines\n",
    "locations = ['Brooklyn, NY', 'Queens, NY', 'Staten Island, NY', 'The Bronx, NY']\n",
    "cuisines = ['Italian', 'American', 'Japanese', 'Mexican', 'Kosher']\n",
    "\n",
    "# Call the function with the desired parameters, and save the data to a CSV file\n",
    "csv_file_path = 'restaurants_data.csv'  # Specify the path for the CSV file\n",
    "restaurant_data = get_restaurant_data(locations, cuisines, save_csv=True, csv_file_path=csv_file_path)\n",
    "\n",
    "# Inform the user\n",
    "print(f\"Data collection complete and saved to {csv_file_path}\")\n",
    "restaurant_data \n"
   ]
  },
  {
   "cell_type": "code",
   "execution_count": null,
   "id": "d5e717d9-b3db-4a46-a961-e7a7c22ff4fe",
   "metadata": {},
   "outputs": [],
   "source": []
  },
  {
   "cell_type": "code",
   "execution_count": null,
   "id": "4b693473-e4a1-49c7-adee-63ffca051787",
   "metadata": {},
   "outputs": [],
   "source": []
  },
  {
   "cell_type": "markdown",
   "id": "757e2f01-c90d-4597-8f67-60e6f82a6364",
   "metadata": {},
   "source": [
    "## Prepped Data Review <a id=\"prepped-data-review\"></a>"
   ]
  },
  {
   "cell_type": "code",
   "execution_count": null,
   "id": "84e2e6b8-ea19-478e-b6db-2b3f4e174aeb",
   "metadata": {},
   "outputs": [],
   "source": []
  },
  {
   "cell_type": "code",
   "execution_count": null,
   "id": "52db2dfd-aa7a-4735-b62d-faeea5be694a",
   "metadata": {},
   "outputs": [],
   "source": []
  },
  {
   "cell_type": "code",
   "execution_count": null,
   "id": "d1f87c8b-3a32-4b95-ac30-4a36e279267f",
   "metadata": {},
   "outputs": [],
   "source": []
  },
  {
   "cell_type": "code",
   "execution_count": null,
   "id": "e2fb5e56-3c5c-4462-8e72-dd16b010fae4",
   "metadata": {},
   "outputs": [],
   "source": []
  },
  {
   "cell_type": "code",
   "execution_count": null,
   "id": "c005d1d7-5942-47dd-9741-cf4fb89a4276",
   "metadata": {},
   "outputs": [],
   "source": []
  },
  {
   "cell_type": "markdown",
   "id": "8757d136-d8c6-46d4-adb3-333854f1456d",
   "metadata": {},
   "source": [
    "## Investigative Analysis & Results <a id=\"investigative-analysis-results\"></a>"
   ]
  },
  {
   "cell_type": "code",
   "execution_count": null,
   "id": "2c3f03e8-e13d-4179-8e52-942cda047c38",
   "metadata": {},
   "outputs": [],
   "source": []
  },
  {
   "cell_type": "code",
   "execution_count": null,
   "id": "461623ee-d459-4d70-b3d2-888c5e9df8b4",
   "metadata": {},
   "outputs": [],
   "source": []
  },
  {
   "cell_type": "code",
   "execution_count": null,
   "id": "905c4b3b-aeb6-4fe1-8c3e-c13516322e6d",
   "metadata": {},
   "outputs": [],
   "source": []
  },
  {
   "cell_type": "code",
   "execution_count": null,
   "id": "2099767d-5125-43fc-84a8-3db41ca6cd1c",
   "metadata": {},
   "outputs": [],
   "source": []
  },
  {
   "cell_type": "code",
   "execution_count": null,
   "id": "b206c747-c4ec-41cc-9c75-8c9d7f2c25d1",
   "metadata": {},
   "outputs": [],
   "source": []
  },
  {
   "cell_type": "code",
   "execution_count": null,
   "id": "1634d144-48b1-4f64-b43f-fac7c06a36eb",
   "metadata": {},
   "outputs": [],
   "source": []
  },
  {
   "cell_type": "markdown",
   "id": "2bd97dad-cdc9-462d-925f-90fafb7b7ed0",
   "metadata": {},
   "source": [
    "## Conclusions <a id=\"conclusions\"></a>"
   ]
  },
  {
   "cell_type": "code",
   "execution_count": null,
   "id": "a660bfbb-fb77-48b3-81d5-59795ba2833b",
   "metadata": {},
   "outputs": [],
   "source": []
  },
  {
   "cell_type": "code",
   "execution_count": null,
   "id": "5a06adbb-25b8-4cce-9e77-5ffc12065a0f",
   "metadata": {},
   "outputs": [],
   "source": []
  },
  {
   "cell_type": "code",
   "execution_count": null,
   "id": "f9e657b2-4af9-4d67-8158-f6e63c620db5",
   "metadata": {},
   "outputs": [],
   "source": []
  }
 ],
 "metadata": {
  "kernelspec": {
   "display_name": "Python 3 (ipykernel)",
   "language": "python",
   "name": "python3"
  },
  "language_info": {
   "codemirror_mode": {
    "name": "ipython",
    "version": 3
   },
   "file_extension": ".py",
   "mimetype": "text/x-python",
   "name": "python",
   "nbconvert_exporter": "python",
   "pygments_lexer": "ipython3",
   "version": "3.11.5"
  }
 },
 "nbformat": 4,
 "nbformat_minor": 5
}
